{
  "nbformat": 4,
  "nbformat_minor": 0,
  "metadata": {
    "colab": {
      "provenance": []
    },
    "kernelspec": {
      "name": "python3",
      "display_name": "Python 3"
    },
    "language_info": {
      "name": "python"
    }
  },
  "cells": [
    {
      "cell_type": "code",
      "execution_count": null,
      "metadata": {
        "id": "zcLvRK3VOlMp"
      },
      "outputs": [],
      "source": [
        "!pip install opencv-python-headless\n",
        "!pip install pytesseract\n",
        "!apt-get install tesseract-ocr\n"
      ]
    },
    {
      "cell_type": "code",
      "source": [
        "import cv2\n",
        "import pytesseract\n",
        "from google.colab.patches import cv2_imshow\n"
      ],
      "metadata": {
        "id": "_FjN5xoFOskp"
      },
      "execution_count": 2,
      "outputs": []
    },
    {
      "cell_type": "code",
      "source": [
        "from google.colab import files\n",
        "\n",
        "# Upload an image file from your local machine to Colab\n",
        "uploaded = files.upload()\n",
        "\n",
        "# Read the uploaded image\n",
        "image_path = list(uploaded.keys())[0]\n",
        "image = cv2.imread(image_path)\n"
      ],
      "metadata": {
        "id": "3B9bFxm-O_wC"
      },
      "execution_count": null,
      "outputs": []
    },
    {
      "cell_type": "code",
      "source": [
        "# Convert the image to grayscale for better OCR performance\n",
        "gray_image = cv2.cvtColor(image, cv2.COLOR_BGR2GRAY)\n",
        "\n",
        "# Perform OCR on the grayscale image\n",
        "extracted_text = pytesseract.image_to_string(gray_image)\n",
        "\n",
        "print(\"Extracted Text:\")\n",
        "print(extracted_text)\n"
      ],
      "metadata": {
        "id": "8LjFP5KrQ73i"
      },
      "execution_count": null,
      "outputs": []
    },
    {
      "cell_type": "code",
      "source": [
        "# Display the image\n",
        "cv2_imshow(image)\n",
        "\n",
        "# Display the extracted text\n",
        "print(\"Extracted Text:\")\n",
        "print(extracted_text)\n"
      ],
      "metadata": {
        "id": "qtUCBWFvRUj-"
      },
      "execution_count": null,
      "outputs": []
    }
  ]
}